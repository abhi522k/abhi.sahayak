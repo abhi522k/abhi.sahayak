{
 "cells": [
  {
   "cell_type": "code",
   "execution_count": 246,
   "metadata": {},
   "outputs": [],
   "source": [
    "import pandas as pd\n",
    "import numpy as np \n",
    "import matplotlib.pyplot as plt\n",
    "%matplotlib inline\n",
    "import seaborn as sns\n",
    "from matplotlib.pylab import rcParams\n",
    "import time\n",
    "pd.set_option('display.max_columns',None)\n",
    "pd.set_option('display.max_rows',None)\n",
    "pd.set_option('display.float_format', '{:4f}'.format)\n",
    "\n",
    "import statsmodels.api as sm\n",
    "from statsmodels.graphics.tsaplots import plot_acf, plot_pacf\n",
    "from statsmodels.tsa.statespace.sarimax import SARIMAX\n",
    "from statsmodels.tsa.stattools import adfuller\n",
    "from statsmodels.tsa.seasonal import seasonal_decompose as sd\n",
    "from sklearn.metrics import mean_squared_error\n",
    "from sklearn.linear_model import LassoLarsCV\n",
    "\n",
    "import warnings\n",
    "warnings.filterwarnings('ignore')\n",
    "warnings.simplefilter(\"ignore\")\n",
    "\n",
    "import itertools\n",
    "import pandas as pd\n",
    "import numpy as np"
   ]
  },
  {
   "cell_type": "code",
   "execution_count": 247,
   "metadata": {},
   "outputs": [
    {
     "data": {
      "text/html": [
       "<div>\n",
       "<style scoped>\n",
       "    .dataframe tbody tr th:only-of-type {\n",
       "        vertical-align: middle;\n",
       "    }\n",
       "\n",
       "    .dataframe tbody tr th {\n",
       "        vertical-align: top;\n",
       "    }\n",
       "\n",
       "    .dataframe thead th {\n",
       "        text-align: right;\n",
       "    }\n",
       "</style>\n",
       "<table border=\"1\" class=\"dataframe\">\n",
       "  <thead>\n",
       "    <tr style=\"text-align: right;\">\n",
       "      <th></th>\n",
       "      <th>date</th>\n",
       "      <th>disease</th>\n",
       "      <th>patient_count</th>\n",
       "    </tr>\n",
       "  </thead>\n",
       "  <tbody>\n",
       "    <tr>\n",
       "      <th>0</th>\n",
       "      <td>01-01-2019 00:00</td>\n",
       "      <td>1</td>\n",
       "      <td>9941</td>\n",
       "    </tr>\n",
       "    <tr>\n",
       "      <th>1</th>\n",
       "      <td>02-01-2019 00:00</td>\n",
       "      <td>1</td>\n",
       "      <td>9917</td>\n",
       "    </tr>\n",
       "    <tr>\n",
       "      <th>2</th>\n",
       "      <td>03-01-2019 00:00</td>\n",
       "      <td>1</td>\n",
       "      <td>9820</td>\n",
       "    </tr>\n",
       "    <tr>\n",
       "      <th>3</th>\n",
       "      <td>04-01-2019 00:00</td>\n",
       "      <td>1</td>\n",
       "      <td>9800</td>\n",
       "    </tr>\n",
       "    <tr>\n",
       "      <th>4</th>\n",
       "      <td>05-01-2019 00:00</td>\n",
       "      <td>1</td>\n",
       "      <td>9934</td>\n",
       "    </tr>\n",
       "  </tbody>\n",
       "</table>\n",
       "</div>"
      ],
      "text/plain": [
       "               date  disease  patient_count\n",
       "0  01-01-2019 00:00        1           9941\n",
       "1  02-01-2019 00:00        1           9917\n",
       "2  03-01-2019 00:00        1           9820\n",
       "3  04-01-2019 00:00        1           9800\n",
       "4  05-01-2019 00:00        1           9934"
      ]
     },
     "execution_count": 247,
     "metadata": {},
     "output_type": "execute_result"
    }
   ],
   "source": [
    "data = pd.read_csv('diseases.csv')\n",
    "data.head()"
   ]
  },
  {
   "cell_type": "code",
   "execution_count": 248,
   "metadata": {},
   "outputs": [
    {
     "data": {
      "text/html": [
       "<div>\n",
       "<style scoped>\n",
       "    .dataframe tbody tr th:only-of-type {\n",
       "        vertical-align: middle;\n",
       "    }\n",
       "\n",
       "    .dataframe tbody tr th {\n",
       "        vertical-align: top;\n",
       "    }\n",
       "\n",
       "    .dataframe thead th {\n",
       "        text-align: right;\n",
       "    }\n",
       "</style>\n",
       "<table border=\"1\" class=\"dataframe\">\n",
       "  <thead>\n",
       "    <tr style=\"text-align: right;\">\n",
       "      <th></th>\n",
       "      <th>date</th>\n",
       "      <th>disease</th>\n",
       "      <th>patient_count</th>\n",
       "    </tr>\n",
       "  </thead>\n",
       "  <tbody>\n",
       "    <tr>\n",
       "      <th>0</th>\n",
       "      <td>2019-01-01</td>\n",
       "      <td>1</td>\n",
       "      <td>9941</td>\n",
       "    </tr>\n",
       "    <tr>\n",
       "      <th>731</th>\n",
       "      <td>2019-01-01</td>\n",
       "      <td>2</td>\n",
       "      <td>2710</td>\n",
       "    </tr>\n",
       "    <tr>\n",
       "      <th>1462</th>\n",
       "      <td>2019-01-01</td>\n",
       "      <td>3</td>\n",
       "      <td>7231</td>\n",
       "    </tr>\n",
       "    <tr>\n",
       "      <th>2193</th>\n",
       "      <td>2019-01-01</td>\n",
       "      <td>4</td>\n",
       "      <td>3811</td>\n",
       "    </tr>\n",
       "    <tr>\n",
       "      <th>31</th>\n",
       "      <td>2019-01-02</td>\n",
       "      <td>1</td>\n",
       "      <td>10081</td>\n",
       "    </tr>\n",
       "  </tbody>\n",
       "</table>\n",
       "</div>"
      ],
      "text/plain": [
       "           date  disease  patient_count\n",
       "0    2019-01-01        1           9941\n",
       "731  2019-01-01        2           2710\n",
       "1462 2019-01-01        3           7231\n",
       "2193 2019-01-01        4           3811\n",
       "31   2019-01-02        1          10081"
      ]
     },
     "execution_count": 248,
     "metadata": {},
     "output_type": "execute_result"
    }
   ],
   "source": [
    "diseaseData = data.copy()\n",
    "diseaseData['date'] = diseaseData['date'].str.replace(\"/\",\"-\")\n",
    "diseaseData['date'] = pd.to_datetime(data['date'])\n",
    "diseaseData.sort_values(by=['date','disease'],inplace=True)\n",
    "diseaseData.head()"
   ]
  },
  {
   "cell_type": "code",
   "execution_count": 249,
   "metadata": {},
   "outputs": [
    {
     "data": {
      "text/html": [
       "<div>\n",
       "<style scoped>\n",
       "    .dataframe tbody tr th:only-of-type {\n",
       "        vertical-align: middle;\n",
       "    }\n",
       "\n",
       "    .dataframe tbody tr th {\n",
       "        vertical-align: top;\n",
       "    }\n",
       "\n",
       "    .dataframe thead th {\n",
       "        text-align: right;\n",
       "    }\n",
       "</style>\n",
       "<table border=\"1\" class=\"dataframe\">\n",
       "  <thead>\n",
       "    <tr style=\"text-align: right;\">\n",
       "      <th></th>\n",
       "      <th>date</th>\n",
       "      <th>disease</th>\n",
       "      <th>patient_count</th>\n",
       "    </tr>\n",
       "  </thead>\n",
       "  <tbody>\n",
       "    <tr>\n",
       "      <th>0</th>\n",
       "      <td>2019-01-01</td>\n",
       "      <td>1</td>\n",
       "      <td>9941</td>\n",
       "    </tr>\n",
       "    <tr>\n",
       "      <th>1</th>\n",
       "      <td>2019-01-01</td>\n",
       "      <td>2</td>\n",
       "      <td>2710</td>\n",
       "    </tr>\n",
       "    <tr>\n",
       "      <th>2</th>\n",
       "      <td>2019-01-01</td>\n",
       "      <td>3</td>\n",
       "      <td>7231</td>\n",
       "    </tr>\n",
       "    <tr>\n",
       "      <th>3</th>\n",
       "      <td>2019-01-01</td>\n",
       "      <td>4</td>\n",
       "      <td>3811</td>\n",
       "    </tr>\n",
       "    <tr>\n",
       "      <th>4</th>\n",
       "      <td>2019-01-02</td>\n",
       "      <td>1</td>\n",
       "      <td>10081</td>\n",
       "    </tr>\n",
       "  </tbody>\n",
       "</table>\n",
       "</div>"
      ],
      "text/plain": [
       "        date  disease  patient_count\n",
       "0 2019-01-01        1           9941\n",
       "1 2019-01-01        2           2710\n",
       "2 2019-01-01        3           7231\n",
       "3 2019-01-01        4           3811\n",
       "4 2019-01-02        1          10081"
      ]
     },
     "execution_count": 249,
     "metadata": {},
     "output_type": "execute_result"
    }
   ],
   "source": [
    "tmp = diseaseData.groupby(['date','disease'],as_index=False)['patient_count'].mean()\n",
    "tmp.head()"
   ]
  },
  {
   "cell_type": "code",
   "execution_count": 250,
   "metadata": {},
   "outputs": [],
   "source": [
    "tmp.set_index('date',inplace=True)"
   ]
  },
  {
   "cell_type": "code",
   "execution_count": 251,
   "metadata": {},
   "outputs": [
    {
     "data": {
      "text/html": [
       "<div>\n",
       "<style scoped>\n",
       "    .dataframe tbody tr th:only-of-type {\n",
       "        vertical-align: middle;\n",
       "    }\n",
       "\n",
       "    .dataframe tbody tr th {\n",
       "        vertical-align: top;\n",
       "    }\n",
       "\n",
       "    .dataframe thead th {\n",
       "        text-align: right;\n",
       "    }\n",
       "</style>\n",
       "<table border=\"1\" class=\"dataframe\">\n",
       "  <thead>\n",
       "    <tr style=\"text-align: right;\">\n",
       "      <th></th>\n",
       "      <th></th>\n",
       "      <th>disease</th>\n",
       "      <th>patient_count</th>\n",
       "    </tr>\n",
       "    <tr>\n",
       "      <th></th>\n",
       "      <th>date</th>\n",
       "      <th></th>\n",
       "      <th></th>\n",
       "    </tr>\n",
       "  </thead>\n",
       "  <tbody>\n",
       "    <tr>\n",
       "      <th rowspan=\"5\" valign=\"top\">0</th>\n",
       "      <th>2019-01-01</th>\n",
       "      <td>1.000000</td>\n",
       "      <td>10020.032258</td>\n",
       "    </tr>\n",
       "    <tr>\n",
       "      <th>2019-02-01</th>\n",
       "      <td>1.000000</td>\n",
       "      <td>10042.892857</td>\n",
       "    </tr>\n",
       "    <tr>\n",
       "      <th>2019-03-01</th>\n",
       "      <td>1.000000</td>\n",
       "      <td>10042.870968</td>\n",
       "    </tr>\n",
       "    <tr>\n",
       "      <th>2019-04-01</th>\n",
       "      <td>1.000000</td>\n",
       "      <td>10083.433333</td>\n",
       "    </tr>\n",
       "    <tr>\n",
       "      <th>2019-05-01</th>\n",
       "      <td>1.000000</td>\n",
       "      <td>10198.612903</td>\n",
       "    </tr>\n",
       "  </tbody>\n",
       "</table>\n",
       "</div>"
      ],
      "text/plain": [
       "              disease  patient_count\n",
       "  date                              \n",
       "0 2019-01-01 1.000000   10020.032258\n",
       "  2019-02-01 1.000000   10042.892857\n",
       "  2019-03-01 1.000000   10042.870968\n",
       "  2019-04-01 1.000000   10083.433333\n",
       "  2019-05-01 1.000000   10198.612903"
      ]
     },
     "execution_count": 251,
     "metadata": {},
     "output_type": "execute_result"
    }
   ],
   "source": [
    "tmp = tmp.groupby('disease',as_index=False).resample('MS').mean()\n",
    "tmp.head()"
   ]
  },
  {
   "cell_type": "code",
   "execution_count": 252,
   "metadata": {},
   "outputs": [
    {
     "data": {
      "text/plain": [
       "disease          0\n",
       "patient_count    0\n",
       "dtype: int64"
      ]
     },
     "execution_count": 252,
     "metadata": {},
     "output_type": "execute_result"
    }
   ],
   "source": [
    "tmp = tmp.reset_index(level=0, drop=True)\n",
    "tmp.isnull().sum()"
   ]
  },
  {
   "cell_type": "code",
   "execution_count": 253,
   "metadata": {},
   "outputs": [],
   "source": [
    "tmp['disease'] = tmp['disease'].astype(int)"
   ]
  },
  {
   "cell_type": "code",
   "execution_count": 254,
   "metadata": {
    "scrolled": false
   },
   "outputs": [
    {
     "data": {
      "image/png": "[encoded data removed]",
      "text/plain": [
       "<Figure size 1080x576 with 1 Axes>"
      ]
     },
     "metadata": {
      "needs_background": "light"
     },
     "output_type": "display_data"
    }
   ],
   "source": [
    "diseaseName = ['Maleria','Dangue','Typhoid','Viral Fever']\n",
    "diseaseList = [1,2,3,4]\n",
    "for i,d in zip(diseaseList,diseaseName):\n",
    "    temp = tmp[tmp.disease == i]\n",
    "    temp['patient_count'].plot(figsize = (15,8), label=d)\n",
    "\n",
    "\n",
    "plt.legend(bbox_to_anchor=(1.04,1), loc='upper left', ncol=2)\n",
    "plt.xlabel(\"Month\", fontsize = 16)\n",
    "plt.ylabel(\"Average Patient Confirmed\")\n",
    "plt.title('Patients in India', fontsize = 20);"
   ]
  },
  {
   "cell_type": "code",
   "execution_count": 255,
   "metadata": {},
   "outputs": [
    {
     "data": {
      "text/html": [
       "<div>\n",
       "<style scoped>\n",
       "    .dataframe tbody tr th:only-of-type {\n",
       "        vertical-align: middle;\n",
       "    }\n",
       "\n",
       "    .dataframe tbody tr th {\n",
       "        vertical-align: top;\n",
       "    }\n",
       "\n",
       "    .dataframe thead th {\n",
       "        text-align: right;\n",
       "    }\n",
       "</style>\n",
       "<table border=\"1\" class=\"dataframe\">\n",
       "  <thead>\n",
       "    <tr style=\"text-align: right;\">\n",
       "      <th></th>\n",
       "      <th>patient_count</th>\n",
       "    </tr>\n",
       "    <tr>\n",
       "      <th>date</th>\n",
       "      <th></th>\n",
       "    </tr>\n",
       "  </thead>\n",
       "  <tbody>\n",
       "    <tr>\n",
       "      <th>2019-01-01</th>\n",
       "      <td>5987.967742</td>\n",
       "    </tr>\n",
       "    <tr>\n",
       "      <th>2019-02-01</th>\n",
       "      <td>6010.785714</td>\n",
       "    </tr>\n",
       "    <tr>\n",
       "      <th>2019-03-01</th>\n",
       "      <td>6016.516129</td>\n",
       "    </tr>\n",
       "    <tr>\n",
       "      <th>2019-04-01</th>\n",
       "      <td>6035.400000</td>\n",
       "    </tr>\n",
       "    <tr>\n",
       "      <th>2019-05-01</th>\n",
       "      <td>6096.620968</td>\n",
       "    </tr>\n",
       "    <tr>\n",
       "      <th>2019-06-01</th>\n",
       "      <td>6147.850000</td>\n",
       "    </tr>\n",
       "    <tr>\n",
       "      <th>2019-07-01</th>\n",
       "      <td>6138.991935</td>\n",
       "    </tr>\n",
       "    <tr>\n",
       "      <th>2019-08-01</th>\n",
       "      <td>6173.072581</td>\n",
       "    </tr>\n",
       "    <tr>\n",
       "      <th>2019-09-01</th>\n",
       "      <td>6155.133333</td>\n",
       "    </tr>\n",
       "    <tr>\n",
       "      <th>2019-10-01</th>\n",
       "      <td>6151.104839</td>\n",
       "    </tr>\n",
       "    <tr>\n",
       "      <th>2019-11-01</th>\n",
       "      <td>6216.058333</td>\n",
       "    </tr>\n",
       "    <tr>\n",
       "      <th>2019-12-01</th>\n",
       "      <td>6259.556452</td>\n",
       "    </tr>\n",
       "    <tr>\n",
       "      <th>2020-01-01</th>\n",
       "      <td>6684.427419</td>\n",
       "    </tr>\n",
       "    <tr>\n",
       "      <th>2020-02-01</th>\n",
       "      <td>6776.698276</td>\n",
       "    </tr>\n",
       "    <tr>\n",
       "      <th>2020-03-01</th>\n",
       "      <td>6832.088710</td>\n",
       "    </tr>\n",
       "    <tr>\n",
       "      <th>2020-04-01</th>\n",
       "      <td>6857.908333</td>\n",
       "    </tr>\n",
       "    <tr>\n",
       "      <th>2020-05-01</th>\n",
       "      <td>6971.838710</td>\n",
       "    </tr>\n",
       "    <tr>\n",
       "      <th>2020-06-01</th>\n",
       "      <td>7007.158333</td>\n",
       "    </tr>\n",
       "    <tr>\n",
       "      <th>2020-07-01</th>\n",
       "      <td>7007.330645</td>\n",
       "    </tr>\n",
       "    <tr>\n",
       "      <th>2020-08-01</th>\n",
       "      <td>7002.669355</td>\n",
       "    </tr>\n",
       "    <tr>\n",
       "      <th>2020-09-01</th>\n",
       "      <td>7023.816667</td>\n",
       "    </tr>\n",
       "    <tr>\n",
       "      <th>2020-10-01</th>\n",
       "      <td>7031.774194</td>\n",
       "    </tr>\n",
       "    <tr>\n",
       "      <th>2020-11-01</th>\n",
       "      <td>7063.250000</td>\n",
       "    </tr>\n",
       "    <tr>\n",
       "      <th>2020-12-01</th>\n",
       "      <td>7121.758065</td>\n",
       "    </tr>\n",
       "  </tbody>\n",
       "</table>\n",
       "</div>"
      ],
      "text/plain": [
       "            patient_count\n",
       "date                     \n",
       "2019-01-01    5987.967742\n",
       "2019-02-01    6010.785714\n",
       "2019-03-01    6016.516129\n",
       "2019-04-01    6035.400000\n",
       "2019-05-01    6096.620968\n",
       "2019-06-01    6147.850000\n",
       "2019-07-01    6138.991935\n",
       "2019-08-01    6173.072581\n",
       "2019-09-01    6155.133333\n",
       "2019-10-01    6151.104839\n",
       "2019-11-01    6216.058333\n",
       "2019-12-01    6259.556452\n",
       "2020-01-01    6684.427419\n",
       "2020-02-01    6776.698276\n",
       "2020-03-01    6832.088710\n",
       "2020-04-01    6857.908333\n",
       "2020-05-01    6971.838710\n",
       "2020-06-01    7007.158333\n",
       "2020-07-01    7007.330645\n",
       "2020-08-01    7002.669355\n",
       "2020-09-01    7023.816667\n",
       "2020-10-01    7031.774194\n",
       "2020-11-01    7063.250000\n",
       "2020-12-01    7121.758065"
      ]
     },
     "execution_count": 255,
     "metadata": {},
     "output_type": "execute_result"
    }
   ],
   "source": [
    "mon_avg = tmp.groupby('date')['patient_count'].mean()\n",
    "mon_avg = mon_avg.to_frame()\n",
    "mon_avg = mon_avg.asfreq(freq ='MS')\n",
    "mon_avg"
   ]
  },
  {
   "cell_type": "code",
   "execution_count": 256,
   "metadata": {},
   "outputs": [],
   "source": [
    "pd.infer_freq(tmp)"
   ]
  },
  {
   "cell_type": "code",
   "execution_count": 257,
   "metadata": {},
   "outputs": [
    {
     "data": {
      "image/png": "[encoded data removed]",
      "text/plain": [
       "<Figure size 864x576 with 4 Axes>"
      ]
     },
     "metadata": {
      "needs_background": "light"
     },
     "output_type": "display_data"
    }
   ],
   "source": [
    "decomposition = sm.tsa.seasonal_decompose(mon_avg, period=6 , model='additive')\n",
    "\n",
    "#Gather the trend, seasonality, and residuals\n",
    "trend = decomposition.trend\n",
    "seasonal = decomposition.seasonal\n",
    "residual = decomposition.resid\n",
    "\n",
    "# Plot gathered statistics\n",
    "plt.figure(figsize=(12,8))\n",
    "plt.subplot(411)\n",
    "plt.plot(tmp, label='Original', color='blue')\n",
    "plt.legend(loc='best')\n",
    "plt.subplot(412)\n",
    "plt.plot(trend, label='Trend', color='blue')\n",
    "plt.legend(loc='best')\n",
    "plt.subplot(413)\n",
    "plt.plot(seasonal,label='Seasonality', color='blue')\n",
    "plt.legend(loc='best')\n",
    "plt.subplot(414)\n",
    "plt.plot(residual, label='Residuals', color='blue')\n",
    "plt.legend(loc='best')\n",
    "plt.tight_layout()"
   ]
  },
  {
   "cell_type": "code",
   "execution_count": 258,
   "metadata": {},
   "outputs": [],
   "source": [
    "def stationarity_check(TS):\n",
    "    from statsmodels.tsa.stattools import adfuller\n",
    "    \n",
    "    roll_mean = TS.rolling(window=2, center=False).mean()\n",
    "    roll_std = TS.rolling(window=2, center=False).std()\n",
    "    \n",
    "    # Perform the Dickey Fuller test\n",
    "    dftest = adfuller(TS) \n",
    "    \n",
    "    # Plot rolling statistics:\n",
    "    fig = plt.figure(figsize=(12,6))\n",
    "    orig = plt.plot(TS, color='blue',label='Original')\n",
    "    mean = plt.plot(roll_mean, color='red', label='Rolling Mean')\n",
    "    std = plt.plot(roll_std, color='black', label = 'Rolling Std')\n",
    "    plt.legend(loc='best')\n",
    "    plt.title('Rolling Mean & Standard Deviation')\n",
    "    plt.show(block=False)\n",
    "    \n",
    "    # Print Dickey-Fuller test results\n",
    "    print('Results of Dickey-Fuller Test: \\n')\n",
    "\n",
    "    dfoutput = pd.Series(dftest[0:4], index=['Test Statistic', 'p-value', \n",
    "                                             '#Lags Used', 'Number of Observations Used'])\n",
    "    for key, value in dftest[4].items():\n",
    "        dfoutput['Critical Value (%s)'%key] = value\n",
    "    print(dfoutput)\n",
    "    \n",
    "    return None"
   ]
  },
  {
   "cell_type": "code",
   "execution_count": 259,
   "metadata": {},
   "outputs": [
    {
     "data": {
      "image/png": "[encoded data removed]",
      "text/plain": [
       "<Figure size 864x432 with 1 Axes>"
      ]
     },
     "metadata": {
      "needs_background": "light"
     },
     "output_type": "display_data"
    },
    {
     "name": "stdout",
     "output_type": "stream",
     "text": [
      "Results of Dickey-Fuller Test: \n",
      "\n",
      "Test Statistic                -0.322527\n",
      "p-value                        0.922253\n",
      "#Lags Used                     0.000000\n",
      "Number of Observations Used   23.000000\n",
      "Critical Value (1%)           -3.752928\n",
      "Critical Value (5%)           -2.998500\n",
      "Critical Value (10%)          -2.638967\n",
      "dtype: float64\n"
     ]
    }
   ],
   "source": [
    "ts_log_decompose = mon_avg\n",
    "ts_log_decompose.dropna(inplace=True)\n",
    "stationarity_check(ts_log_decompose)"
   ]
  },
  {
   "cell_type": "code",
   "execution_count": 260,
   "metadata": {},
   "outputs": [],
   "source": [
    "disease_dfs = []\n",
    "lst = np.array([1,2,3,4])\n",
    "for x in lst:\n",
    "    disease_dfs.append(pd.DataFrame(tmp[tmp['disease']==x][['patient_count']].copy()))"
   ]
  },
  {
   "cell_type": "code",
   "execution_count": 261,
   "metadata": {},
   "outputs": [
    {
     "data": {
      "image/png": "[encoded data removed]",
      "text/plain": [
       "<Figure size 432x288 with 1 Axes>"
      ]
     },
     "metadata": {
      "needs_background": "light"
     },
     "output_type": "display_data"
    },
    {
     "data": {
      "image/png": "[encoded data removed]",
      "text/plain": [
       "<Figure size 432x288 with 1 Axes>"
      ]
     },
     "metadata": {
      "needs_background": "light"
     },
     "output_type": "display_data"
    },
    {
     "data": {
      "image/png": "[encoded data removed]",
      "text/plain": [
       "<Figure size 432x288 with 1 Axes>"
      ]
     },
     "metadata": {
      "needs_background": "light"
     },
     "output_type": "display_data"
    },
    {
     "data": {
      "image/png": "[encoded data removed]",
      "text/plain": [
       "<Figure size 432x288 with 1 Axes>"
      ]
     },
     "metadata": {
      "needs_background": "light"
     },
     "output_type": "display_data"
    }
   ],
   "source": [
    "for df,name in zip(disease_dfs, lst):\n",
    "    df.plot()\n",
    "    plt.title(name)\n",
    "    plt.show()"
   ]
  },
  {
   "cell_type": "code",
   "execution_count": 262,
   "metadata": {},
   "outputs": [],
   "source": [
    "# Define the p, d and q parameters to take any value between 0 and 2\n",
    "p = d = q = range(0,2)\n",
    "# Generate all different combinations of p, d and q triplets\n",
    "pdq = list(itertools.product(p,d,q))\n",
    "# Generate all different combinations of seasonal p, d and q triplets\n",
    "pdqs = [(x[0], x[1], x[2], 12) for x in list(itertools.product(p, d, q))]"
   ]
  },
  {
   "cell_type": "code",
   "execution_count": 263,
   "metadata": {},
   "outputs": [
    {
     "data": {
      "text/plain": [
       "[(0, 0, 0),\n",
       " (0, 0, 1),\n",
       " (0, 1, 0),\n",
       " (0, 1, 1),\n",
       " (1, 0, 0),\n",
       " (1, 0, 1),\n",
       " (1, 1, 0),\n",
       " (1, 1, 1)]"
      ]
     },
     "execution_count": 263,
     "metadata": {},
     "output_type": "execute_result"
    }
   ],
   "source": [
    "pdq"
   ]
  },
  {
   "cell_type": "code",
   "execution_count": 264,
   "metadata": {},
   "outputs": [
    {
     "data": {
      "text/plain": [
       "[(0, 0, 0, 12),\n",
       " (0, 0, 1, 12),\n",
       " (0, 1, 0, 12),\n",
       " (0, 1, 1, 12),\n",
       " (1, 0, 0, 12),\n",
       " (1, 0, 1, 12),\n",
       " (1, 1, 0, 12),\n",
       " (1, 1, 1, 12)]"
      ]
     },
     "execution_count": 264,
     "metadata": {},
     "output_type": "execute_result"
    }
   ],
   "source": [
    "pdqs"
   ]
  },
  {
   "cell_type": "code",
   "execution_count": 265,
   "metadata": {},
   "outputs": [
    {
     "name": "stdout",
     "output_type": "stream",
     "text": [
      "Result for Maleria ARIMA (0, 0, 0) x (0, 0, 0, 12)12 : AIC Calculated = 516.6298746317862\n",
      "Result for Maleria ARIMA (0, 0, 0) x (0, 0, 1, 12)12 : AIC Calculated = 505.64990853862594\n",
      "Result for Maleria ARIMA (0, 0, 0) x (0, 1, 0, 12)12 : AIC Calculated = 210.4349836335893\n",
      "Result for Maleria ARIMA (0, 0, 0) x (0, 1, 1, 12)12 : AIC Calculated = 179.1468051024245\n",
      "Result for Maleria ARIMA (0, 0, 0) x (1, 0, 0, 12)12 : AIC Calculated = 469.69863757182117\n",
      "Result for Maleria ARIMA (0, 0, 0) x (1, 0, 1, 12)12 : AIC Calculated = 471.6986370761183\n",
      "Result for Maleria ARIMA (0, 0, 0) x (1, 1, 0, 12)12 : AIC Calculated = 169.06009806353075\n",
      "Result for Maleria ARIMA (0, 0, 0) x (1, 1, 1, 12)12 : AIC Calculated = 171.317626346645\n",
      "Result for Maleria ARIMA (0, 0, 1) x (0, 0, 0, 12)12 : AIC Calculated = 503.70751477479905\n",
      "Result for Maleria ARIMA (0, 0, 1) x (0, 0, 1, 12)12 : AIC Calculated = 504.72712921924926\n",
      "Result for Maleria ARIMA (0, 0, 1) x (0, 1, 0, 12)12 : AIC Calculated = 204.11123684053814\n",
      "Result for Maleria ARIMA (0, 0, 1) x (0, 1, 1, 12)12 : AIC Calculated = 175.06024153481397\n",
      "Result for Maleria ARIMA (0, 0, 1) x (1, 0, 0, 12)12 : AIC Calculated = 504.6097505954849\n",
      "Result for Maleria ARIMA (0, 0, 1) x (1, 0, 1, 12)12 : AIC Calculated = 506.6089597060105\n",
      "Result for Maleria ARIMA (0, 0, 1) x (1, 1, 0, 12)12 : AIC Calculated = 161.78520288151825\n",
      "Result for Maleria ARIMA (0, 0, 1) x (1, 1, 1, 12)12 : AIC Calculated = 165.06877398777183\n",
      "Result for Maleria ARIMA (0, 1, 0) x (0, 0, 0, 12)12 : AIC Calculated = 303.21677178639976\n",
      "Result for Maleria ARIMA (0, 1, 0) x (0, 0, 1, 12)12 : AIC Calculated = 295.55604282475656\n",
      "Result for Maleria ARIMA (0, 1, 0) x (0, 1, 0, 12)12 : AIC Calculated = 128.42529921585407\n",
      "Result for Maleria ARIMA (0, 1, 0) x (0, 1, 1, 12)12 : AIC Calculated = 130.4245993592563\n",
      "Result for Maleria ARIMA (0, 1, 0) x (1, 0, 0, 12)12 : AIC Calculated = 283.94975798826044\n",
      "Result for Maleria ARIMA (0, 1, 0) x (1, 0, 1, 12)12 : AIC Calculated = 285.94975778194197\n",
      "Result for Maleria ARIMA (0, 1, 0) x (1, 1, 0, 12)12 : AIC Calculated = 130.424621755067\n",
      "Result for Maleria ARIMA (0, 1, 0) x (1, 1, 1, 12)12 : AIC Calculated = 132.42464355300493\n",
      "Result for Maleria ARIMA (0, 1, 1) x (0, 0, 0, 12)12 : AIC Calculated = 303.16665425045136\n",
      "Result for Maleria ARIMA (0, 1, 1) x (0, 0, 1, 12)12 : AIC Calculated = 296.1420852408785\n",
      "Result for Maleria ARIMA (0, 1, 1) x (0, 1, 0, 12)12 : AIC Calculated = 130.4246356210941\n",
      "Result for Maleria ARIMA (0, 1, 1) x (0, 1, 1, 12)12 : AIC Calculated = 132.42394625331474\n",
      "Result for Maleria ARIMA (0, 1, 1) x (1, 0, 0, 12)12 : AIC Calculated = 285.13815607454495\n",
      "Result for Maleria ARIMA (0, 1, 1) x (1, 0, 1, 12)12 : AIC Calculated = 287.0624789323109\n",
      "Result for Maleria ARIMA (0, 1, 1) x (1, 1, 0, 12)12 : AIC Calculated = 132.42344136250273\n",
      "Result for Maleria ARIMA (0, 1, 1) x (1, 1, 1, 12)12 : AIC Calculated = 134.42289836696423\n",
      "Result for Maleria ARIMA (1, 0, 0) x (0, 0, 0, 12)12 : AIC Calculated = 326.67521465331686\n",
      "Result for Maleria ARIMA (1, 0, 0) x (0, 0, 1, 12)12 : AIC Calculated = 325.24778917223244\n",
      "Result for Maleria ARIMA (1, 0, 0) x (0, 1, 0, 12)12 : AIC Calculated = 200.3238818863036\n",
      "Result for Maleria ARIMA (1, 0, 0) x (0, 1, 1, 12)12 : AIC Calculated = 175.05391122459497\n",
      "Result for Maleria ARIMA (1, 0, 0) x (1, 0, 0, 12)12 : AIC Calculated = 317.8855549386325\n",
      "Result for Maleria ARIMA (1, 0, 0) x (1, 0, 1, 12)12 : AIC Calculated = 319.4532746598197\n",
      "Result for Maleria ARIMA (1, 0, 0) x (1, 1, 0, 12)12 : AIC Calculated = 155.98496291036813\n",
      "Result for Maleria ARIMA (1, 0, 0) x (1, 1, 1, 12)12 : AIC Calculated = 159.88498540165966\n",
      "Result for Maleria ARIMA (1, 0, 1) x (0, 0, 0, 12)12 : AIC Calculated = 326.59666632901695\n",
      "Result for Maleria ARIMA (1, 0, 1) x (0, 0, 1, 12)12 : AIC Calculated = 325.47529123039595\n",
      "Result for Maleria ARIMA (1, 0, 1) x (0, 1, 0, 12)12 : AIC Calculated = 170.6840696578593\n",
      "Result for Maleria ARIMA (1, 0, 1) x (0, 1, 1, 12)12 : AIC Calculated = 176.5305698568304\n",
      "Result for Maleria ARIMA (1, 0, 1) x (1, 0, 0, 12)12 : AIC Calculated = 318.65265498097875\n",
      "Result for Maleria ARIMA (1, 0, 1) x (1, 0, 1, 12)12 : AIC Calculated = 321.8372709828836\n",
      "Result for Maleria ARIMA (1, 0, 1) x (1, 1, 0, 12)12 : AIC Calculated = 159.70878910307155\n",
      "Result for Maleria ARIMA (1, 0, 1) x (1, 1, 1, 12)12 : AIC Calculated = 163.8535245510948\n",
      "Result for Maleria ARIMA (1, 1, 0) x (0, 0, 0, 12)12 : AIC Calculated = 302.3112094831183\n",
      "Result for Maleria ARIMA (1, 1, 0) x (0, 0, 1, 12)12 : AIC Calculated = 295.5634874698989\n",
      "Result for Maleria ARIMA (1, 1, 0) x (0, 1, 0, 12)12 : AIC Calculated = 130.42451071793738\n",
      "Result for Maleria ARIMA (1, 1, 0) x (0, 1, 1, 12)12 : AIC Calculated = 132.4209747372992\n",
      "Result for Maleria ARIMA (1, 1, 0) x (1, 0, 0, 12)12 : AIC Calculated = 284.85613774197236\n",
      "Result for Maleria ARIMA (1, 1, 0) x (1, 0, 1, 12)12 : AIC Calculated = 286.8123559063576\n",
      "Result for Maleria ARIMA (1, 1, 0) x (1, 1, 0, 12)12 : AIC Calculated = 132.41986344672475\n",
      "Result for Maleria ARIMA (1, 1, 0) x (1, 1, 1, 12)12 : AIC Calculated = 134.41990883925553\n",
      "Result for Maleria ARIMA (1, 1, 1) x (0, 0, 0, 12)12 : AIC Calculated = 302.3200231670049\n",
      "Result for Maleria ARIMA (1, 1, 1) x (0, 0, 1, 12)12 : AIC Calculated = 295.8522060380412\n",
      "Result for Maleria ARIMA (1, 1, 1) x (0, 1, 0, 12)12 : AIC Calculated = 131.71054753521943\n",
      "Result for Maleria ARIMA (1, 1, 1) x (0, 1, 1, 12)12 : AIC Calculated = 133.7095629829962\n",
      "Result for Maleria ARIMA (1, 1, 1) x (1, 0, 0, 12)12 : AIC Calculated = 286.53015809570616\n",
      "Result for Maleria ARIMA (1, 1, 1) x (1, 0, 1, 12)12 : AIC Calculated = 288.5306066615103\n",
      "Result for Maleria ARIMA (1, 1, 1) x (1, 1, 0, 12)12 : AIC Calculated = 133.71470503253988\n",
      "Result for Maleria ARIMA (1, 1, 1) x (1, 1, 1, 12)12 : AIC Calculated = 135.71801456251077\n",
      "Result for Dangue ARIMA (0, 0, 0) x (0, 0, 0, 12)12 : AIC Calculated = 454.5872918578418\n",
      "Result for Dangue ARIMA (0, 0, 0) x (0, 0, 1, 12)12 : AIC Calculated = 443.6741122683668\n",
      "Result for Dangue ARIMA (0, 0, 0) x (0, 1, 0, 12)12 : AIC Calculated = 182.83800599353896\n",
      "Result for Dangue ARIMA (0, 0, 0) x (0, 1, 1, 12)12 : AIC Calculated = 174.77765053552616\n",
      "Result for Dangue ARIMA (0, 0, 0) x (1, 0, 0, 12)12 : AIC Calculated = 411.06335992967513\n",
      "Result for Dangue ARIMA (0, 0, 0) x (1, 0, 1, 12)12 : AIC Calculated = 413.0633597491069\n",
      "Result for Dangue ARIMA (0, 0, 0) x (1, 1, 0, 12)12 : AIC Calculated = 167.8265250574877\n",
      "Result for Dangue ARIMA (0, 0, 0) x (1, 1, 1, 12)12 : AIC Calculated = 169.86063166632127\n",
      "Result for Dangue ARIMA (0, 0, 1) x (0, 0, 0, 12)12 : AIC Calculated = 427.55542100614434\n",
      "Result for Dangue ARIMA (0, 0, 1) x (0, 0, 1, 12)12 : AIC Calculated = 415.939640630217\n",
      "Result for Dangue ARIMA (0, 0, 1) x (0, 1, 0, 12)12 : AIC Calculated = 171.06563589896007\n",
      "Result for Dangue ARIMA (0, 0, 1) x (0, 1, 1, 12)12 : AIC Calculated = 163.32181567631443\n",
      "Result for Dangue ARIMA (0, 0, 1) x (1, 0, 0, 12)12 : AIC Calculated = 381.3681697102892\n",
      "Result for Dangue ARIMA (0, 0, 1) x (1, 0, 1, 12)12 : AIC Calculated = 382.8187292166608\n",
      "Result for Dangue ARIMA (0, 0, 1) x (1, 1, 0, 12)12 : AIC Calculated = 155.87749559018317\n",
      "Result for Dangue ARIMA (0, 0, 1) x (1, 1, 1, 12)12 : AIC Calculated = 157.89492616961036\n",
      "Result for Dangue ARIMA (0, 1, 0) x (0, 0, 0, 12)12 : AIC Calculated = 250.96305752055576\n",
      "Result for Dangue ARIMA (0, 1, 0) x (0, 0, 1, 12)12 : AIC Calculated = 248.7418392048394\n",
      "Result for Dangue ARIMA (0, 1, 0) x (0, 1, 0, 12)12 : AIC Calculated = 104.91829455725086\n",
      "Result for Dangue ARIMA (0, 1, 0) x (0, 1, 1, 12)12 : AIC Calculated = 106.91502339379117\n",
      "Result for Dangue ARIMA (0, 1, 0) x (1, 0, 0, 12)12 : AIC Calculated = 241.00702315912366\n",
      "Result for Dangue ARIMA (0, 1, 0) x (1, 0, 1, 12)12 : AIC Calculated = 243.00702316231718\n",
      "Result for Dangue ARIMA (0, 1, 0) x (1, 1, 0, 12)12 : AIC Calculated = 106.91256232676129\n",
      "Result for Dangue ARIMA (0, 1, 0) x (1, 1, 1, 12)12 : AIC Calculated = 108.91231087738456\n",
      "Result for Dangue ARIMA (0, 1, 1) x (0, 0, 0, 12)12 : AIC Calculated = 250.57748863732436\n",
      "Result for Dangue ARIMA (0, 1, 1) x (0, 0, 1, 12)12 : AIC Calculated = 248.5276953320972\n",
      "Result for Dangue ARIMA (0, 1, 1) x (0, 1, 0, 12)12 : AIC Calculated = 102.23239713888657\n"
     ]
    },
    {
     "name": "stdout",
     "output_type": "stream",
     "text": [
      "Result for Dangue ARIMA (0, 1, 1) x (0, 1, 1, 12)12 : AIC Calculated = 104.19889102532456\n",
      "Result for Dangue ARIMA (0, 1, 1) x (1, 0, 0, 12)12 : AIC Calculated = 240.28811421876233\n",
      "Result for Dangue ARIMA (0, 1, 1) x (1, 0, 1, 12)12 : AIC Calculated = 242.28485520801482\n",
      "Result for Dangue ARIMA (0, 1, 1) x (1, 1, 0, 12)12 : AIC Calculated = 104.16313449785518\n",
      "Result for Dangue ARIMA (0, 1, 1) x (1, 1, 1, 12)12 : AIC Calculated = 106.16409141569966\n",
      "Result for Dangue ARIMA (1, 0, 0) x (0, 0, 0, 12)12 : AIC Calculated = 271.86467233376527\n",
      "Result for Dangue ARIMA (1, 0, 0) x (0, 0, 1, 12)12 : AIC Calculated = 270.2830170181303\n",
      "Result for Dangue ARIMA (1, 0, 0) x (0, 1, 0, 12)12 : AIC Calculated = 122.72474758804722\n",
      "Result for Dangue ARIMA (1, 0, 0) x (0, 1, 1, 12)12 : AIC Calculated = 123.29705358398476\n",
      "Result for Dangue ARIMA (1, 0, 0) x (1, 0, 0, 12)12 : AIC Calculated = 264.04054170636044\n",
      "Result for Dangue ARIMA (1, 0, 0) x (1, 0, 1, 12)12 : AIC Calculated = 265.6208472382753\n",
      "Result for Dangue ARIMA (1, 0, 0) x (1, 1, 0, 12)12 : AIC Calculated = 122.21206893245929\n",
      "Result for Dangue ARIMA (1, 0, 0) x (1, 1, 1, 12)12 : AIC Calculated = 126.41261896311578\n",
      "Result for Dangue ARIMA (1, 0, 1) x (0, 0, 0, 12)12 : AIC Calculated = 271.4842216363887\n",
      "Result for Dangue ARIMA (1, 0, 1) x (0, 0, 1, 12)12 : AIC Calculated = 270.0464249677276\n",
      "Result for Dangue ARIMA (1, 0, 1) x (0, 1, 0, 12)12 : AIC Calculated = 121.04099497520879\n",
      "Result for Dangue ARIMA (1, 0, 1) x (0, 1, 1, 12)12 : AIC Calculated = 121.31040432140391\n",
      "Result for Dangue ARIMA (1, 0, 1) x (1, 1, 0, 12)12 : AIC Calculated = 119.84339811737688\n",
      "Result for Dangue ARIMA (1, 0, 1) x (1, 1, 1, 12)12 : AIC Calculated = 124.00556473866993\n",
      "Result for Dangue ARIMA (1, 1, 0) x (0, 0, 0, 12)12 : AIC Calculated = 249.0243763872451\n",
      "Result for Dangue ARIMA (1, 1, 0) x (0, 0, 1, 12)12 : AIC Calculated = 247.19908344303647\n",
      "Result for Dangue ARIMA (1, 1, 0) x (0, 1, 0, 12)12 : AIC Calculated = 105.89017637162435\n",
      "Result for Dangue ARIMA (1, 1, 0) x (0, 1, 1, 12)12 : AIC Calculated = 107.8901044313468\n",
      "Result for Dangue ARIMA (1, 1, 0) x (1, 0, 0, 12)12 : AIC Calculated = 240.03349605511912\n",
      "Result for Dangue ARIMA (1, 1, 0) x (1, 0, 1, 12)12 : AIC Calculated = 242.0181024198939\n",
      "Result for Dangue ARIMA (1, 1, 0) x (1, 1, 0, 12)12 : AIC Calculated = 107.8901043919676\n",
      "Result for Dangue ARIMA (1, 1, 0) x (1, 1, 1, 12)12 : AIC Calculated = 109.89010445222938\n",
      "Result for Dangue ARIMA (1, 1, 1) x (0, 0, 0, 12)12 : AIC Calculated = 249.88882255336588\n",
      "Result for Dangue ARIMA (1, 1, 1) x (0, 0, 1, 12)12 : AIC Calculated = 248.27552394053632\n",
      "Result for Dangue ARIMA (1, 1, 1) x (0, 1, 0, 12)12 : AIC Calculated = 104.12631500577038\n",
      "Result for Dangue ARIMA (1, 1, 1) x (0, 1, 1, 12)12 : AIC Calculated = 106.0855938278927\n",
      "Result for Dangue ARIMA (1, 1, 1) x (1, 0, 0, 12)12 : AIC Calculated = 242.03321279555675\n",
      "Result for Dangue ARIMA (1, 1, 1) x (1, 0, 1, 12)12 : AIC Calculated = 244.01780437750648\n",
      "Result for Dangue ARIMA (1, 1, 1) x (1, 1, 0, 12)12 : AIC Calculated = 106.04394836858786\n",
      "Result for Dangue ARIMA (1, 1, 1) x (1, 1, 1, 12)12 : AIC Calculated = 108.06519260814352\n",
      "Result for Typhoid ARIMA (0, 0, 0) x (0, 0, 0, 12)12 : AIC Calculated = 501.21126225685055\n",
      "Result for Typhoid ARIMA (0, 0, 0) x (0, 0, 1, 12)12 : AIC Calculated = 490.2070754662002\n",
      "Result for Typhoid ARIMA (0, 0, 0) x (0, 1, 0, 12)12 : AIC Calculated = 201.19827498669127\n",
      "Result for Typhoid ARIMA (0, 0, 0) x (0, 1, 1, 12)12 : AIC Calculated = 177.23840205503242\n",
      "Result for Typhoid ARIMA (0, 0, 0) x (1, 0, 0, 12)12 : AIC Calculated = 452.75849283994216\n",
      "Result for Typhoid ARIMA (0, 0, 0) x (1, 0, 1, 12)12 : AIC Calculated = 454.75849107401\n",
      "Result for Typhoid ARIMA (0, 0, 0) x (1, 1, 0, 12)12 : AIC Calculated = 167.5851178987184\n",
      "Result for Typhoid ARIMA (0, 0, 0) x (1, 1, 1, 12)12 : AIC Calculated = 169.9038967003021\n",
      "Result for Typhoid ARIMA (0, 0, 1) x (0, 0, 0, 12)12 : AIC Calculated = 488.2697626525269\n",
      "Result for Typhoid ARIMA (0, 0, 1) x (0, 0, 1, 12)12 : AIC Calculated = 489.28723057574325\n",
      "Result for Typhoid ARIMA (0, 0, 1) x (0, 1, 0, 12)12 : AIC Calculated = 191.10307582111759\n",
      "Result for Typhoid ARIMA (0, 0, 1) x (0, 1, 1, 12)12 : AIC Calculated = 169.13512838200896\n",
      "Result for Typhoid ARIMA (0, 0, 1) x (1, 0, 0, 12)12 : AIC Calculated = 422.2309517838848\n",
      "Result for Typhoid ARIMA (0, 0, 1) x (1, 0, 1, 12)12 : AIC Calculated = 491.16890206909176\n",
      "Result for Typhoid ARIMA (0, 0, 1) x (1, 1, 0, 12)12 : AIC Calculated = 157.87058893670277\n",
      "Result for Typhoid ARIMA (0, 0, 1) x (1, 1, 1, 12)12 : AIC Calculated = 160.09465676570554\n",
      "Result for Typhoid ARIMA (0, 1, 0) x (0, 0, 0, 12)12 : AIC Calculated = 287.8198877007263\n",
      "Result for Typhoid ARIMA (0, 1, 0) x (0, 0, 1, 12)12 : AIC Calculated = 283.18514256826927\n",
      "Result for Typhoid ARIMA (0, 1, 0) x (0, 1, 0, 12)12 : AIC Calculated = 124.44363126889931\n",
      "Result for Typhoid ARIMA (0, 1, 0) x (0, 1, 1, 12)12 : AIC Calculated = 126.44359338969991\n",
      "Result for Typhoid ARIMA (0, 1, 0) x (1, 0, 0, 12)12 : AIC Calculated = 275.3006853969748\n",
      "Result for Typhoid ARIMA (0, 1, 0) x (1, 0, 1, 12)12 : AIC Calculated = 277.30068525191706\n",
      "Result for Typhoid ARIMA (0, 1, 0) x (1, 1, 0, 12)12 : AIC Calculated = 126.44359495074688\n",
      "Result for Typhoid ARIMA (0, 1, 0) x (1, 1, 1, 12)12 : AIC Calculated = 128.4435920194128\n",
      "Result for Typhoid ARIMA (0, 1, 1) x (0, 0, 0, 12)12 : AIC Calculated = 287.6242735974209\n",
      "Result for Typhoid ARIMA (0, 1, 1) x (0, 0, 1, 12)12 : AIC Calculated = 283.7502164064866\n",
      "Result for Typhoid ARIMA (0, 1, 1) x (0, 1, 0, 12)12 : AIC Calculated = 126.3892581630042\n",
      "Result for Typhoid ARIMA (0, 1, 1) x (0, 1, 1, 12)12 : AIC Calculated = 128.36969354508773\n",
      "Result for Typhoid ARIMA (0, 1, 1) x (1, 0, 0, 12)12 : AIC Calculated = 276.81596901270086\n",
      "Result for Typhoid ARIMA (0, 1, 1) x (1, 0, 1, 12)12 : AIC Calculated = 278.78443190454544\n",
      "Result for Typhoid ARIMA (0, 1, 1) x (1, 1, 0, 12)12 : AIC Calculated = 128.36591796674995\n",
      "Result for Typhoid ARIMA (0, 1, 1) x (1, 1, 1, 12)12 : AIC Calculated = 130.36441216822251\n",
      "Result for Typhoid ARIMA (1, 0, 0) x (0, 0, 0, 12)12 : AIC Calculated = 310.6240824079326\n",
      "Result for Typhoid ARIMA (1, 0, 0) x (0, 0, 1, 12)12 : AIC Calculated = 309.3139337151573\n",
      "Result for Typhoid ARIMA (1, 0, 0) x (0, 1, 0, 12)12 : AIC Calculated = 171.24001055633178\n",
      "Result for Typhoid ARIMA (1, 0, 0) x (0, 1, 1, 12)12 : AIC Calculated = 166.48824055003422\n",
      "Result for Typhoid ARIMA (1, 0, 0) x (1, 0, 0, 12)12 : AIC Calculated = 304.16175526218973\n",
      "Result for Typhoid ARIMA (1, 0, 0) x (1, 0, 1, 12)12 : AIC Calculated = 305.896443546043\n",
      "Result for Typhoid ARIMA (1, 0, 0) x (1, 1, 0, 12)12 : AIC Calculated = 149.10868957500708\n",
      "Result for Typhoid ARIMA (1, 0, 0) x (1, 1, 1, 12)12 : AIC Calculated = 152.67932674482878\n",
      "Result for Typhoid ARIMA (1, 0, 1) x (0, 0, 0, 12)12 : AIC Calculated = 310.4602944040823\n",
      "Result for Typhoid ARIMA (1, 0, 1) x (0, 0, 1, 12)12 : AIC Calculated = 312.4591271074933\n",
      "Result for Typhoid ARIMA (1, 0, 1) x (0, 1, 0, 12)12 : AIC Calculated = 153.66383055560632\n",
      "Result for Typhoid ARIMA (1, 0, 1) x (0, 1, 1, 12)12 : AIC Calculated = 166.5567260331213\n",
      "Result for Typhoid ARIMA (1, 0, 1) x (1, 0, 0, 12)12 : AIC Calculated = 305.4016365703566\n",
      "Result for Typhoid ARIMA (1, 0, 1) x (1, 0, 1, 12)12 : AIC Calculated = 307.1998412750737\n",
      "Result for Typhoid ARIMA (1, 0, 1) x (1, 1, 0, 12)12 : AIC Calculated = 150.94598329555686\n",
      "Result for Typhoid ARIMA (1, 0, 1) x (1, 1, 1, 12)12 : AIC Calculated = 155.13252860966472\n",
      "Result for Typhoid ARIMA (1, 1, 0) x (0, 0, 0, 12)12 : AIC Calculated = 286.85408795142484\n",
      "Result for Typhoid ARIMA (1, 1, 0) x (0, 0, 1, 12)12 : AIC Calculated = 283.2705948282231\n",
      "Result for Typhoid ARIMA (1, 1, 0) x (0, 1, 0, 12)12 : AIC Calculated = 126.38429843246945\n",
      "Result for Typhoid ARIMA (1, 1, 0) x (0, 1, 1, 12)12 : AIC Calculated = 128.34922901787888\n",
      "Result for Typhoid ARIMA (1, 1, 0) x (1, 0, 0, 12)12 : AIC Calculated = 276.68270734840826\n",
      "Result for Typhoid ARIMA (1, 1, 0) x (1, 0, 1, 12)12 : AIC Calculated = 278.6565151813407\n",
      "Result for Typhoid ARIMA (1, 1, 0) x (1, 1, 0, 12)12 : AIC Calculated = 128.31239962273634\n",
      "Result for Typhoid ARIMA (1, 1, 0) x (1, 1, 1, 12)12 : AIC Calculated = 130.31297041300002\n",
      "Result for Typhoid ARIMA (1, 1, 1) x (0, 0, 0, 12)12 : AIC Calculated = 287.99026662416793\n"
     ]
    },
    {
     "name": "stdout",
     "output_type": "stream",
     "text": [
      "Result for Typhoid ARIMA (1, 1, 1) x (0, 0, 1, 12)12 : AIC Calculated = 284.1706797402435\n",
      "Result for Typhoid ARIMA (1, 1, 1) x (0, 1, 0, 12)12 : AIC Calculated = 128.2216298787066\n",
      "Result for Typhoid ARIMA (1, 1, 1) x (0, 1, 1, 12)12 : AIC Calculated = 130.40588673122062\n",
      "Result for Typhoid ARIMA (1, 1, 1) x (1, 0, 0, 12)12 : AIC Calculated = 278.09315091957177\n",
      "Result for Typhoid ARIMA (1, 1, 1) x (1, 0, 1, 12)12 : AIC Calculated = 280.0873367386705\n",
      "Result for Typhoid ARIMA (1, 1, 1) x (1, 1, 0, 12)12 : AIC Calculated = 130.27734011240102\n",
      "Result for Typhoid ARIMA (1, 1, 1) x (1, 1, 1, 12)12 : AIC Calculated = 132.3628640911727\n",
      "Result for Viral Fever ARIMA (0, 0, 0) x (0, 0, 0, 12)12 : AIC Calculated = 471.20673593179094\n",
      "Result for Viral Fever ARIMA (0, 0, 0) x (0, 0, 1, 12)12 : AIC Calculated = 460.1809859914858\n",
      "Result for Viral Fever ARIMA (0, 0, 0) x (0, 1, 0, 12)12 : AIC Calculated = 184.6515749734426\n",
      "Result for Viral Fever ARIMA (0, 0, 0) x (0, 1, 1, 12)12 : AIC Calculated = 173.17513834591912\n",
      "Result for Viral Fever ARIMA (0, 0, 0) x (1, 0, 0, 12)12 : AIC Calculated = 421.2151543124688\n",
      "Result for Viral Fever ARIMA (0, 0, 0) x (1, 0, 1, 12)12 : AIC Calculated = 423.2151529546783\n",
      "Result for Viral Fever ARIMA (0, 0, 0) x (1, 1, 0, 12)12 : AIC Calculated = 165.64966112197746\n",
      "Result for Viral Fever ARIMA (0, 0, 0) x (1, 1, 1, 12)12 : AIC Calculated = 167.67357766060493\n",
      "Result for Viral Fever ARIMA (0, 0, 1) x (0, 0, 0, 12)12 : AIC Calculated = 444.0886189960347\n",
      "Result for Viral Fever ARIMA (0, 0, 1) x (0, 0, 1, 12)12 : AIC Calculated = 432.24364797692175\n",
      "Result for Viral Fever ARIMA (0, 0, 1) x (0, 1, 0, 12)12 : AIC Calculated = 172.20137823759276\n",
      "Result for Viral Fever ARIMA (0, 0, 1) x (0, 1, 1, 12)12 : AIC Calculated = 160.90838039768443\n",
      "Result for Viral Fever ARIMA (0, 0, 1) x (1, 0, 0, 12)12 : AIC Calculated = 391.0304187083653\n",
      "Result for Viral Fever ARIMA (0, 0, 1) x (1, 0, 1, 12)12 : AIC Calculated = 392.6664531744759\n",
      "Result for Viral Fever ARIMA (0, 0, 1) x (1, 1, 0, 12)12 : AIC Calculated = 155.28405927025852\n",
      "Result for Viral Fever ARIMA (0, 0, 1) x (1, 1, 1, 12)12 : AIC Calculated = 157.07683245706792\n",
      "Result for Viral Fever ARIMA (0, 1, 0) x (0, 0, 0, 12)12 : AIC Calculated = 259.4503322663507\n",
      "Result for Viral Fever ARIMA (0, 1, 0) x (0, 0, 1, 12)12 : AIC Calculated = 257.6378434028415\n",
      "Result for Viral Fever ARIMA (0, 1, 0) x (0, 1, 0, 12)12 : AIC Calculated = 110.49307720349734\n",
      "Result for Viral Fever ARIMA (0, 1, 0) x (0, 1, 1, 12)12 : AIC Calculated = 112.48236873580049\n",
      "Result for Viral Fever ARIMA (0, 1, 0) x (1, 0, 0, 12)12 : AIC Calculated = 250.65831667867283\n",
      "Result for Viral Fever ARIMA (0, 1, 0) x (1, 0, 1, 12)12 : AIC Calculated = 252.65831667880627\n",
      "Result for Viral Fever ARIMA (0, 1, 0) x (1, 1, 0, 12)12 : AIC Calculated = 112.47273941267743\n",
      "Result for Viral Fever ARIMA (0, 1, 0) x (1, 1, 1, 12)12 : AIC Calculated = 114.4727885383194\n",
      "Result for Viral Fever ARIMA (0, 1, 1) x (0, 0, 0, 12)12 : AIC Calculated = 259.3485146837186\n",
      "Result for Viral Fever ARIMA (0, 1, 1) x (0, 0, 1, 12)12 : AIC Calculated = 257.4937955209353\n",
      "Result for Viral Fever ARIMA (0, 1, 1) x (0, 1, 0, 12)12 : AIC Calculated = 109.95621827569177\n",
      "Result for Viral Fever ARIMA (0, 1, 1) x (0, 1, 1, 12)12 : AIC Calculated = 111.93619798114638\n",
      "Result for Viral Fever ARIMA (0, 1, 1) x (1, 0, 0, 12)12 : AIC Calculated = 249.57393758845564\n",
      "Result for Viral Fever ARIMA (0, 1, 1) x (1, 0, 1, 12)12 : AIC Calculated = 251.54696292199435\n",
      "Result for Viral Fever ARIMA (0, 1, 1) x (1, 1, 0, 12)12 : AIC Calculated = 111.9235935175317\n",
      "Result for Viral Fever ARIMA (0, 1, 1) x (1, 1, 1, 12)12 : AIC Calculated = 113.92438023558006\n",
      "Result for Viral Fever ARIMA (1, 0, 0) x (0, 0, 0, 12)12 : AIC Calculated = 280.9756049742639\n",
      "Result for Viral Fever ARIMA (1, 0, 0) x (0, 0, 1, 12)12 : AIC Calculated = 280.17741485398705\n",
      "Result for Viral Fever ARIMA (1, 0, 0) x (0, 1, 0, 12)12 : AIC Calculated = 120.76772962207951\n",
      "Result for Viral Fever ARIMA (1, 0, 0) x (0, 1, 1, 12)12 : AIC Calculated = 121.08994729089126\n",
      "Result for Viral Fever ARIMA (1, 0, 0) x (1, 0, 0, 12)12 : AIC Calculated = 274.2509802755544\n",
      "Result for Viral Fever ARIMA (1, 0, 0) x (1, 0, 1, 12)12 : AIC Calculated = 275.8144560133078\n",
      "Result for Viral Fever ARIMA (1, 0, 0) x (1, 1, 0, 12)12 : AIC Calculated = 122.04905668267067\n",
      "Result for Viral Fever ARIMA (1, 0, 0) x (1, 1, 1, 12)12 : AIC Calculated = 123.08989361806616\n",
      "Result for Viral Fever ARIMA (1, 0, 1) x (0, 0, 0, 12)12 : AIC Calculated = 280.94209689786186\n",
      "Result for Viral Fever ARIMA (1, 0, 1) x (0, 0, 1, 12)12 : AIC Calculated = 280.0716398443387\n",
      "Result for Viral Fever ARIMA (1, 0, 1) x (0, 1, 0, 12)12 : AIC Calculated = 121.22660015206587\n",
      "Result for Viral Fever ARIMA (1, 0, 1) x (0, 1, 1, 12)12 : AIC Calculated = 121.43728765651719\n",
      "Result for Viral Fever ARIMA (1, 0, 1) x (1, 0, 0, 12)12 : AIC Calculated = 273.1161581632043\n",
      "Result for Viral Fever ARIMA (1, 0, 1) x (1, 0, 1, 12)12 : AIC Calculated = 274.7438123243266\n",
      "Result for Viral Fever ARIMA (1, 0, 1) x (1, 1, 0, 12)12 : AIC Calculated = 122.22558201945272\n",
      "Result for Viral Fever ARIMA (1, 0, 1) x (1, 1, 1, 12)12 : AIC Calculated = 123.37718781791557\n",
      "Result for Viral Fever ARIMA (1, 1, 0) x (0, 0, 0, 12)12 : AIC Calculated = 258.2303840045969\n",
      "Result for Viral Fever ARIMA (1, 1, 0) x (0, 0, 1, 12)12 : AIC Calculated = 256.2832036353211\n",
      "Result for Viral Fever ARIMA (1, 1, 0) x (0, 1, 0, 12)12 : AIC Calculated = 108.58875555994672\n",
      "Result for Viral Fever ARIMA (1, 1, 0) x (0, 1, 1, 12)12 : AIC Calculated = 110.53499774474581\n",
      "Result for Viral Fever ARIMA (1, 1, 0) x (1, 0, 0, 12)12 : AIC Calculated = 247.66491194174426\n",
      "Result for Viral Fever ARIMA (1, 1, 0) x (1, 0, 1, 12)12 : AIC Calculated = 249.58032437080644\n",
      "Result for Viral Fever ARIMA (1, 1, 0) x (1, 1, 0, 12)12 : AIC Calculated = 110.53010551906448\n",
      "Result for Viral Fever ARIMA (1, 1, 0) x (1, 1, 1, 12)12 : AIC Calculated = 112.52723878123967\n",
      "Result for Viral Fever ARIMA (1, 1, 1) x (0, 0, 0, 12)12 : AIC Calculated = 259.44274749789156\n",
      "Result for Viral Fever ARIMA (1, 1, 1) x (0, 0, 1, 12)12 : AIC Calculated = 257.3777319586861\n",
      "Result for Viral Fever ARIMA (1, 1, 1) x (0, 1, 0, 12)12 : AIC Calculated = 109.69326389307062\n",
      "Result for Viral Fever ARIMA (1, 1, 1) x (0, 1, 1, 12)12 : AIC Calculated = 111.67583777338614\n",
      "Result for Viral Fever ARIMA (1, 1, 1) x (1, 0, 0, 12)12 : AIC Calculated = 248.44980914635642\n",
      "Result for Viral Fever ARIMA (1, 1, 1) x (1, 0, 1, 12)12 : AIC Calculated = 250.4124819417229\n",
      "Result for Viral Fever ARIMA (1, 1, 1) x (1, 1, 0, 12)12 : AIC Calculated = 111.68077687559017\n",
      "Result for Viral Fever ARIMA (1, 1, 1) x (1, 1, 1, 12)12 : AIC Calculated = 113.6514240690837\n"
     ]
    }
   ],
   "source": [
    "ans = []\n",
    "\n",
    "for df, name in zip(disease_dfs, diseaseName):\n",
    "    for para1 in pdq:\n",
    "        for para2 in pdqs:\n",
    "            try:\n",
    "                mod = sm.tsa.statespace.SARIMAX(df,\n",
    "                                                order = para1,\n",
    "                                                seasonal_order = para2,\n",
    "                                                enforce_stationarity = True,\n",
    "                                                enforce_invertibility = False)\n",
    "                output = mod.fit()\n",
    "                ans.append([name, para1, para2, output.aic])\n",
    "                print('Result for {}'.format(name) + ' ARIMA {} x {}12 : AIC Calculated = {}'.format(para1, para2, output.aic))\n",
    "            except:\n",
    "                continue"
   ]
  },
  {
   "cell_type": "code",
   "execution_count": 266,
   "metadata": {},
   "outputs": [],
   "source": [
    "result = pd.DataFrame(ans, columns = ['name','pdq','pdqs','AIC'])"
   ]
  },
  {
   "cell_type": "code",
   "execution_count": 267,
   "metadata": {},
   "outputs": [
    {
     "data": {
      "text/html": [
       "<div>\n",
       "<style scoped>\n",
       "    .dataframe tbody tr th:only-of-type {\n",
       "        vertical-align: middle;\n",
       "    }\n",
       "\n",
       "    .dataframe tbody tr th {\n",
       "        vertical-align: top;\n",
       "    }\n",
       "\n",
       "    .dataframe thead th {\n",
       "        text-align: right;\n",
       "    }\n",
       "</style>\n",
       "<table border=\"1\" class=\"dataframe\">\n",
       "  <thead>\n",
       "    <tr style=\"text-align: right;\">\n",
       "      <th></th>\n",
       "      <th>name</th>\n",
       "      <th>pdq</th>\n",
       "      <th>pdqs</th>\n",
       "      <th>AIC</th>\n",
       "    </tr>\n",
       "  </thead>\n",
       "  <tbody>\n",
       "    <tr>\n",
       "      <th>90</th>\n",
       "      <td>Dangue</td>\n",
       "      <td>(0, 1, 1)</td>\n",
       "      <td>(0, 1, 0, 12)</td>\n",
       "      <td>102.232397</td>\n",
       "    </tr>\n",
       "    <tr>\n",
       "      <th>18</th>\n",
       "      <td>Maleria</td>\n",
       "      <td>(0, 1, 0)</td>\n",
       "      <td>(0, 1, 0, 12)</td>\n",
       "      <td>128.425299</td>\n",
       "    </tr>\n",
       "    <tr>\n",
       "      <th>144</th>\n",
       "      <td>Typhoid</td>\n",
       "      <td>(0, 1, 0)</td>\n",
       "      <td>(0, 1, 0, 12)</td>\n",
       "      <td>124.443631</td>\n",
       "    </tr>\n",
       "    <tr>\n",
       "      <th>240</th>\n",
       "      <td>Viral Fever</td>\n",
       "      <td>(1, 1, 0)</td>\n",
       "      <td>(0, 1, 0, 12)</td>\n",
       "      <td>108.588756</td>\n",
       "    </tr>\n",
       "  </tbody>\n",
       "</table>\n",
       "</div>"
      ],
      "text/plain": [
       "            name        pdq           pdqs        AIC\n",
       "90        Dangue  (0, 1, 1)  (0, 1, 0, 12) 102.232397\n",
       "18       Maleria  (0, 1, 0)  (0, 1, 0, 12) 128.425299\n",
       "144      Typhoid  (0, 1, 0)  (0, 1, 0, 12) 124.443631\n",
       "240  Viral Fever  (1, 1, 0)  (0, 1, 0, 12) 108.588756"
      ]
     },
     "execution_count": 267,
     "metadata": {},
     "output_type": "execute_result"
    }
   ],
   "source": [
    "#Return the best set of parameters based on AIC\n",
    "best_para = result.loc[result.groupby(\"name\")[\"AIC\"].idxmin()]\n",
    "best_para"
   ]
  },
  {
   "cell_type": "code",
   "execution_count": 268,
   "metadata": {},
   "outputs": [
    {
     "data": {
      "text/plain": [
       "6532.07403050347"
      ]
     },
     "execution_count": 268,
     "metadata": {},
     "output_type": "execute_result"
    }
   ],
   "source": [
    "tmp['patient_count'].mean()"
   ]
  },
  {
   "cell_type": "code",
   "execution_count": 269,
   "metadata": {},
   "outputs": [],
   "source": [
    "#fig1, ax1 = plt.subplots()\n",
    "#ax1.set_title('Basic Plot')\n",
    "#ax1.boxplot(tmp[:]['patient_count'])"
   ]
  },
  {
   "cell_type": "code",
   "execution_count": 270,
   "metadata": {},
   "outputs": [
    {
     "data": {
      "text/html": [
       "<div>\n",
       "<style scoped>\n",
       "    .dataframe tbody tr th:only-of-type {\n",
       "        vertical-align: middle;\n",
       "    }\n",
       "\n",
       "    .dataframe tbody tr th {\n",
       "        vertical-align: top;\n",
       "    }\n",
       "\n",
       "    .dataframe thead th {\n",
       "        text-align: right;\n",
       "    }\n",
       "</style>\n",
       "<table border=\"1\" class=\"dataframe\">\n",
       "  <thead>\n",
       "    <tr style=\"text-align: right;\">\n",
       "      <th></th>\n",
       "      <th>patient_count</th>\n",
       "    </tr>\n",
       "    <tr>\n",
       "      <th>date</th>\n",
       "      <th></th>\n",
       "    </tr>\n",
       "  </thead>\n",
       "  <tbody>\n",
       "    <tr>\n",
       "      <th>2019-01-01</th>\n",
       "      <td>10020.032258</td>\n",
       "    </tr>\n",
       "    <tr>\n",
       "      <th>2019-02-01</th>\n",
       "      <td>10042.892857</td>\n",
       "    </tr>\n",
       "    <tr>\n",
       "      <th>2019-03-01</th>\n",
       "      <td>10042.870968</td>\n",
       "    </tr>\n",
       "    <tr>\n",
       "      <th>2019-04-01</th>\n",
       "      <td>10083.433333</td>\n",
       "    </tr>\n",
       "    <tr>\n",
       "      <th>2019-05-01</th>\n",
       "      <td>10198.612903</td>\n",
       "    </tr>\n",
       "    <tr>\n",
       "      <th>2019-06-01</th>\n",
       "      <td>10287.633333</td>\n",
       "    </tr>\n",
       "    <tr>\n",
       "      <th>2019-07-01</th>\n",
       "      <td>10286.387097</td>\n",
       "    </tr>\n",
       "    <tr>\n",
       "      <th>2019-08-01</th>\n",
       "      <td>10357.677419</td>\n",
       "    </tr>\n",
       "    <tr>\n",
       "      <th>2019-09-01</th>\n",
       "      <td>10306.833333</td>\n",
       "    </tr>\n",
       "    <tr>\n",
       "      <th>2019-10-01</th>\n",
       "      <td>10286.354839</td>\n",
       "    </tr>\n",
       "    <tr>\n",
       "      <th>2019-11-01</th>\n",
       "      <td>10380.266667</td>\n",
       "    </tr>\n",
       "    <tr>\n",
       "      <th>2019-12-01</th>\n",
       "      <td>10440.387097</td>\n",
       "    </tr>\n",
       "    <tr>\n",
       "      <th>2020-01-01</th>\n",
       "      <td>11149.838710</td>\n",
       "    </tr>\n",
       "    <tr>\n",
       "      <th>2020-02-01</th>\n",
       "      <td>11314.137931</td>\n",
       "    </tr>\n",
       "    <tr>\n",
       "      <th>2020-03-01</th>\n",
       "      <td>11413.774194</td>\n",
       "    </tr>\n",
       "    <tr>\n",
       "      <th>2020-04-01</th>\n",
       "      <td>11467.966667</td>\n",
       "    </tr>\n",
       "    <tr>\n",
       "      <th>2020-05-01</th>\n",
       "      <td>11676.161290</td>\n",
       "    </tr>\n",
       "    <tr>\n",
       "      <th>2020-06-01</th>\n",
       "      <td>11750.800000</td>\n",
       "    </tr>\n",
       "    <tr>\n",
       "      <th>2020-07-01</th>\n",
       "      <td>11761.129032</td>\n",
       "    </tr>\n",
       "    <tr>\n",
       "      <th>2020-08-01</th>\n",
       "      <td>11754.161290</td>\n",
       "    </tr>\n",
       "    <tr>\n",
       "      <th>2020-09-01</th>\n",
       "      <td>11810.633333</td>\n",
       "    </tr>\n",
       "    <tr>\n",
       "      <th>2020-10-01</th>\n",
       "      <td>11837.967742</td>\n",
       "    </tr>\n",
       "    <tr>\n",
       "      <th>2020-11-01</th>\n",
       "      <td>11895.266667</td>\n",
       "    </tr>\n",
       "    <tr>\n",
       "      <th>2020-12-01</th>\n",
       "      <td>12007.967742</td>\n",
       "    </tr>\n",
       "  </tbody>\n",
       "</table>\n",
       "</div>"
      ],
      "text/plain": [
       "            patient_count\n",
       "date                     \n",
       "2019-01-01   10020.032258\n",
       "2019-02-01   10042.892857\n",
       "2019-03-01   10042.870968\n",
       "2019-04-01   10083.433333\n",
       "2019-05-01   10198.612903\n",
       "2019-06-01   10287.633333\n",
       "2019-07-01   10286.387097\n",
       "2019-08-01   10357.677419\n",
       "2019-09-01   10306.833333\n",
       "2019-10-01   10286.354839\n",
       "2019-11-01   10380.266667\n",
       "2019-12-01   10440.387097\n",
       "2020-01-01   11149.838710\n",
       "2020-02-01   11314.137931\n",
       "2020-03-01   11413.774194\n",
       "2020-04-01   11467.966667\n",
       "2020-05-01   11676.161290\n",
       "2020-06-01   11750.800000\n",
       "2020-07-01   11761.129032\n",
       "2020-08-01   11754.161290\n",
       "2020-09-01   11810.633333\n",
       "2020-10-01   11837.967742\n",
       "2020-11-01   11895.266667\n",
       "2020-12-01   12007.967742"
      ]
     },
     "execution_count": 270,
     "metadata": {},
     "output_type": "execute_result"
    }
   ],
   "source": [
    "disease_dfs[0]"
   ]
  },
  {
   "cell_type": "code",
   "execution_count": 271,
   "metadata": {},
   "outputs": [
    {
     "name": "stdout",
     "output_type": "stream",
     "text": [
      "SARIMA Model Result for Dangue\n",
      "==============================================================================\n",
      "                 coef    std err          z      P>|z|      [0.025      0.975]\n",
      "------------------------------------------------------------------------------\n",
      "ma.L1          0.0082      0.315      0.026      0.979      -0.609       0.625\n",
      "sigma2      5730.1250   3404.780      1.683      0.092    -943.121    1.24e+04\n",
      "==============================================================================\n",
      "SARIMA Model Result for Maleria\n",
      "==============================================================================\n",
      "                 coef    std err          z      P>|z|      [0.025      0.975]\n",
      "------------------------------------------------------------------------------\n",
      "sigma2       677.4386    299.279      2.264      0.024      90.862    1264.016\n",
      "==============================================================================\n",
      "SARIMA Model Result for Typhoid\n",
      "==============================================================================\n",
      "                 coef    std err          z      P>|z|      [0.025      0.975]\n",
      "------------------------------------------------------------------------------\n",
      "sigma2      3991.9538   2096.134      1.904      0.057    -116.393    8100.301\n",
      "==============================================================================\n",
      "SARIMA Model Result for Viral Fever\n",
      "==============================================================================\n",
      "                 coef    std err          z      P>|z|      [0.025      0.975]\n",
      "------------------------------------------------------------------------------\n",
      "ar.L1          0.5622      0.297      1.893      0.058      -0.020       1.144\n",
      "sigma2       761.8265    382.890      1.990      0.047      11.376    1512.277\n",
      "==============================================================================\n"
     ]
    }
   ],
   "source": [
    "for name, pdq, pdqs, df in zip(best_para['name'], best_para['pdq'], best_para['pdqs'], disease_dfs):\n",
    "    \n",
    "    ARIMA_MODEL = sm.tsa.SARIMAX(df, \n",
    "                           order = pdq,\n",
    "                           seasonal_order = pdqs,\n",
    "                           freq = 'MS',\n",
    "                           enforce_stationarity = True,\n",
    "                           enforce_invertibility = False)\n",
    "    \n",
    "    output = ARIMA_MODEL.fit()\n",
    "    print('SARIMA Model Result for {}'.format(name))\n",
    "    print(output.summary().tables[1])"
   ]
  },
  {
   "cell_type": "code",
   "execution_count": 272,
   "metadata": {},
   "outputs": [
    {
     "data": {
      "image/png": "[encoded data removed]",
      "text/plain": [
       "<Figure size 720x576 with 1 Axes>"
      ]
     },
     "metadata": {
      "needs_background": "light"
     },
     "output_type": "display_data"
    },
    {
     "name": "stdout",
     "output_type": "stream",
     "text": [
      "The Mean Squared Error of our forecasts is 2462.89\n",
      "MAPE : 0.16\n"
     ]
    },
    {
     "data": {
      "image/png": "[encoded data removed]",
      "text/plain": [
       "<Figure size 720x576 with 1 Axes>"
      ]
     },
     "metadata": {
      "needs_background": "light"
     },
     "output_type": "display_data"
    },
    {
     "name": "stdout",
     "output_type": "stream",
     "text": [
      "The Mean Squared Error of our forecasts is 652.07\n",
      "MAPE : 0.15\n"
     ]
    },
    {
     "data": {
      "image/png": "[encoded data removed]",
      "text/plain": [
       "<Figure size 720x576 with 1 Axes>"
      ]
     },
     "metadata": {
      "needs_background": "light"
     },
     "output_type": "display_data"
    },
    {
     "name": "stdout",
     "output_type": "stream",
     "text": [
      "The Mean Squared Error of our forecasts is 1810.34\n",
      "MAPE : 0.17\n"
     ]
    },
    {
     "data": {
      "image/png": "[encoded data removed]",
      "text/plain": [
       "<Figure size 720x576 with 1 Axes>"
      ]
     },
     "metadata": {
      "needs_background": "light"
     },
     "output_type": "display_data"
    },
    {
     "name": "stdout",
     "output_type": "stream",
     "text": [
      "The Mean Squared Error of our forecasts is 1002.16\n",
      "MAPE : 0.17\n"
     ]
    }
   ],
   "source": [
    "summary_table = pd.DataFrame()\n",
    "Disease = []\n",
    "MSE_Value = []\n",
    "models = []\n",
    "for name, pdq, pdqs, df in zip(best_para['name'], best_para['pdq'], best_para['pdqs'], disease_dfs):\n",
    "    ARIMA_MODEL = sm.tsa.SARIMAX(df,\n",
    "                                 order = pdq,\n",
    "                                 seasonal_order = pdqs,\n",
    "                                 freq = 'MS',\n",
    "                                 enforce_stationarity = True,\n",
    "                                 enforce_invertibility = False)\n",
    "                                \n",
    "    output = ARIMA_MODEL.fit()\n",
    "    models.append(output)\n",
    "\n",
    "    pred_dynamic = output.get_prediction(start='2019-02-01', dynamic = True, full_results = True)\n",
    "    pred_dynamic_conf = pred_dynamic.conf_int()\n",
    "    d_forecasted = pred_dynamic.predicted_mean\n",
    "    d_truth = df['2019-02-01':]['patient_count']\n",
    "    \n",
    "    ax = df.plot(label='observed', figsize=(10, 8))\n",
    "    pred_dynamic.predicted_mean.plot(label='Dynamic Forecast', ax=ax)\n",
    "\n",
    "    ax.fill_between(pred_dynamic_conf.index,\n",
    "                    pred_dynamic_conf.iloc[:, 0],\n",
    "                    pred_dynamic_conf.iloc[:, 1], color='g', alpha=.3)\n",
    "\n",
    "\n",
    "    ax.set_xlabel('Time')\n",
    "    ax.set_ylabel('Average Patient Count')\n",
    "\n",
    "    plt.legend()\n",
    "    plt.show()\n",
    "\n",
    "    sqrt_mse = np.sqrt(((d_forecasted - d_truth)**2).mean())\n",
    "    mape = np.mean(np.abs(d_forecasted - d_truth)/np.abs(d_truth))\n",
    "    print('The Mean Squared Error of our forecasts is {}'.format(round(sqrt_mse, 2))) \n",
    "    print('MAPE : {}'.format(round(mape,2)))\n",
    "    \n",
    "    Disease.append(name)\n",
    "    MSE_Value.append(sqrt_mse)\n",
    "    \n",
    "summary_table['Disease'] = Disease\n",
    "summary_table['Sqrt_MSE'] = MSE_Value"
   ]
  },
  {
   "cell_type": "code",
   "execution_count": 273,
   "metadata": {},
   "outputs": [],
   "source": [
    "forecast_table = pd.DataFrame()\n",
    "current = []\n",
    "forecast_1mon = []\n",
    "forecast_2mon = []\n",
    "forecast_3mon = []\n",
    "forecast_4mon = []\n",
    "forecast_5mon = []\n",
    "forecast_6mon = []\n",
    "forecast_7mon = []\n",
    "forecast_8mon = []\n",
    "forecast_9mon = []\n",
    "forecast_10mon = []\n",
    "forecast_11mon = []\n",
    "forecast_12mon = []\n",
    "\n",
    "predicted_data = []\n",
    "\n",
    "for disease, output, df in zip(Disease, models, disease_dfs):\n",
    "    pred = []\n",
    "    pred_conf = [] \n",
    "    forecast = []\n",
    "    for i in range(1,13):\n",
    "        pred = output.get_forecast(steps = i)      \n",
    "        forecast.append(pred.predicted_mean.to_numpy()[-1])\n",
    "    \n",
    "    current.append(df.loc['2020-12-01']['patient_count'])\n",
    "    forecast_1mon.append(forecast[0])\n",
    "    forecast_2mon.append(forecast[1])\n",
    "    forecast_3mon.append(forecast[2])\n",
    "    forecast_4mon.append(forecast[3])\n",
    "    forecast_5mon.append(forecast[4])\n",
    "    forecast_6mon.append(forecast[5])\n",
    "    forecast_7mon.append(forecast[6])\n",
    "    forecast_8mon.append(forecast[7])\n",
    "    forecast_9mon.append(forecast[8])\n",
    "    forecast_10mon.append(forecast[9])\n",
    "    forecast_11mon.append(forecast[10])\n",
    "    forecast_12mon.append(forecast[11])\n",
    "    \n",
    "forecast_table['Disease'] = Disease\n",
    "forecast_table['Current Value'] = current\n",
    "forecast_table['1 Month'] = forecast_1mon\n",
    "forecast_table['2 Months'] = forecast_2mon\n",
    "forecast_table['3 Months'] = forecast_3mon\n",
    "forecast_table['4 Months'] = forecast_4mon\n",
    "forecast_table['5 Months'] = forecast_5mon\n",
    "forecast_table['6 Months'] = forecast_6mon\n",
    "forecast_table['7 Months'] = forecast_7mon\n",
    "forecast_table['8 Months'] = forecast_8mon\n",
    "forecast_table['9 Months'] = forecast_9mon\n",
    "forecast_table['10 Months'] = forecast_10mon\n",
    "forecast_table['11 Months'] = forecast_11mon\n",
    "forecast_table['12 Months'] = forecast_12mon"
   ]
  },
  {
   "cell_type": "code",
   "execution_count": 274,
   "metadata": {},
   "outputs": [
    {
     "data": {
      "text/html": [
       "<div>\n",
       "<style scoped>\n",
       "    .dataframe tbody tr th:only-of-type {\n",
       "        vertical-align: middle;\n",
       "    }\n",
       "\n",
       "    .dataframe tbody tr th {\n",
       "        vertical-align: top;\n",
       "    }\n",
       "\n",
       "    .dataframe thead th {\n",
       "        text-align: right;\n",
       "    }\n",
       "</style>\n",
       "<table border=\"1\" class=\"dataframe\">\n",
       "  <thead>\n",
       "    <tr style=\"text-align: right;\">\n",
       "      <th></th>\n",
       "      <th>Disease</th>\n",
       "      <th>Current Value</th>\n",
       "      <th>1 Month</th>\n",
       "      <th>2 Months</th>\n",
       "      <th>3 Months</th>\n",
       "      <th>4 Months</th>\n",
       "      <th>5 Months</th>\n",
       "      <th>6 Months</th>\n",
       "      <th>7 Months</th>\n",
       "      <th>8 Months</th>\n",
       "      <th>9 Months</th>\n",
       "      <th>10 Months</th>\n",
       "      <th>11 Months</th>\n",
       "      <th>12 Months</th>\n",
       "    </tr>\n",
       "  </thead>\n",
       "  <tbody>\n",
       "    <tr>\n",
       "      <th>0</th>\n",
       "      <td>Dangue</td>\n",
       "      <td>12007.967742</td>\n",
       "      <td>12717.854152</td>\n",
       "      <td>12882.153373</td>\n",
       "      <td>12981.789636</td>\n",
       "      <td>13035.982109</td>\n",
       "      <td>13244.176733</td>\n",
       "      <td>13318.815442</td>\n",
       "      <td>13329.144474</td>\n",
       "      <td>13322.176733</td>\n",
       "      <td>13378.648776</td>\n",
       "      <td>13405.983184</td>\n",
       "      <td>13463.282109</td>\n",
       "      <td>13575.983184</td>\n",
       "    </tr>\n",
       "    <tr>\n",
       "      <th>1</th>\n",
       "      <td>Maleria</td>\n",
       "      <td>3378.516129</td>\n",
       "      <td>3599.096774</td>\n",
       "      <td>3642.718576</td>\n",
       "      <td>3674.129032</td>\n",
       "      <td>3660.780645</td>\n",
       "      <td>3681.258065</td>\n",
       "      <td>3690.780645</td>\n",
       "      <td>3699.193548</td>\n",
       "      <td>3713.064516</td>\n",
       "      <td>3739.313978</td>\n",
       "      <td>3775.838710</td>\n",
       "      <td>3827.380645</td>\n",
       "      <td>3865.096774</td>\n",
       "    </tr>\n",
       "    <tr>\n",
       "      <th>2</th>\n",
       "      <td>Typhoid</td>\n",
       "      <td>8618.967742</td>\n",
       "      <td>9108.483871</td>\n",
       "      <td>9226.067853</td>\n",
       "      <td>9293.451613</td>\n",
       "      <td>9361.082796</td>\n",
       "      <td>9551.483871</td>\n",
       "      <td>9617.116129</td>\n",
       "      <td>9617.677419</td>\n",
       "      <td>9597.677419</td>\n",
       "      <td>9620.149462</td>\n",
       "      <td>9607.032258</td>\n",
       "      <td>9615.082796</td>\n",
       "      <td>9689.483871</td>\n",
       "    </tr>\n",
       "    <tr>\n",
       "      <th>3</th>\n",
       "      <td>Viral Fever</td>\n",
       "      <td>4481.580645</td>\n",
       "      <td>4736.474858</td>\n",
       "      <td>4765.973833</td>\n",
       "      <td>4781.188925</td>\n",
       "      <td>4771.541290</td>\n",
       "      <td>4805.687182</td>\n",
       "      <td>4795.765102</td>\n",
       "      <td>4776.360023</td>\n",
       "      <td>4770.366840</td>\n",
       "      <td>4749.512452</td>\n",
       "      <td>4730.460013</td>\n",
       "      <td>4739.392783</td>\n",
       "      <td>4748.562310</td>\n",
       "    </tr>\n",
       "  </tbody>\n",
       "</table>\n",
       "</div>"
      ],
      "text/plain": [
       "       Disease  Current Value      1 Month     2 Months     3 Months  \\\n",
       "0       Dangue   12007.967742 12717.854152 12882.153373 12981.789636   \n",
       "1      Maleria    3378.516129  3599.096774  3642.718576  3674.129032   \n",
       "2      Typhoid    8618.967742  9108.483871  9226.067853  9293.451613   \n",
       "3  Viral Fever    4481.580645  4736.474858  4765.973833  4781.188925   \n",
       "\n",
       "      4 Months     5 Months     6 Months     7 Months     8 Months  \\\n",
       "0 13035.982109 13244.176733 13318.815442 13329.144474 13322.176733   \n",
       "1  3660.780645  3681.258065  3690.780645  3699.193548  3713.064516   \n",
       "2  9361.082796  9551.483871  9617.116129  9617.677419  9597.677419   \n",
       "3  4771.541290  4805.687182  4795.765102  4776.360023  4770.366840   \n",
       "\n",
       "      9 Months    10 Months    11 Months    12 Months  \n",
       "0 13378.648776 13405.983184 13463.282109 13575.983184  \n",
       "1  3739.313978  3775.838710  3827.380645  3865.096774  \n",
       "2  9620.149462  9607.032258  9615.082796  9689.483871  \n",
       "3  4749.512452  4730.460013  4739.392783  4748.562310  "
      ]
     },
     "execution_count": 274,
     "metadata": {},
     "output_type": "execute_result"
    }
   ],
   "source": [
    "forecast_table"
   ]
  },
  {
   "cell_type": "code",
   "execution_count": 275,
   "metadata": {},
   "outputs": [
    {
     "data": {
      "text/plain": [
       "[<statsmodels.tsa.statespace.sarimax.SARIMAXResultsWrapper at 0x2572529c940>,\n",
       " <statsmodels.tsa.statespace.sarimax.SARIMAXResultsWrapper at 0x25723143d00>,\n",
       " <statsmodels.tsa.statespace.sarimax.SARIMAXResultsWrapper at 0x257231eb280>,\n",
       " <statsmodels.tsa.statespace.sarimax.SARIMAXResultsWrapper at 0x257231974f0>]"
      ]
     },
     "execution_count": 275,
     "metadata": {},
     "output_type": "execute_result"
    }
   ],
   "source": [
    "models"
   ]
  },
  {
   "cell_type": "code",
   "execution_count": 276,
   "metadata": {},
   "outputs": [],
   "source": [
    "for m,z in zip(models,Disease):\n",
    "    m.save(str(z)+'.pkl')"
   ]
  },
  {
   "cell_type": "code",
   "execution_count": 50,
   "metadata": {
    "scrolled": true
   },
   "outputs": [],
   "source": [
    "import pickle\n",
    "from datetime import date\n",
    "\n",
    "import mysql.connector\n",
    "\n",
    "mydb = mysql.connector.connect(\n",
    "    host=\"localhost\",\n",
    "    user=\"root\",\n",
    "    password=\"\",\n",
    "    database=\"health\",\n",
    "    port=3306\n",
    ")\n",
    "\n",
    "mycursor = mydb.cursor()\n",
    "\n",
    "emptyQuery = \"TRUNCATE TABLE prediction;\"\n",
    "mycursor.execute(emptyQuery)\n",
    "\n",
    "\n",
    "diseases = ['Maleria','Dangue','Typhoid','Viral Fever']\n",
    "\n",
    "data = {}\n",
    "\n",
    "for d in diseases:\n",
    "    fileName = d + '.pkl'\n",
    "    with open(fileName, 'rb') as file:\n",
    "        model = pickle.load(file)\n",
    "    \n",
    "    data[d] = {}\n",
    "    for i in range(1,13):\n",
    "        pred = model.get_forecast(steps = i)\n",
    "        forecast = pred.predicted_mean.to_numpy()[-1]\n",
    "        data[d][i] = int(forecast)\n",
    "        \n",
    "for month in range(1,13):\n",
    "    query = \"INSERT INTO prediction (location, malaria, dangue, typhoid, viral_fever) VALUES (%s, %s, %s, %s, %s)\"\n",
    "    val = (0, data[diseases[0]][month], data[diseases[1]][month], data[diseases[2]][month], data[diseases[3]][month])\n",
    "    mycursor.execute(query, val)\n",
    "\n",
    "mydb.commit()"
   ]
  },
  {
   "cell_type": "code",
   "execution_count": 51,
   "metadata": {},
   "outputs": [
    {
     "ename": "SyntaxError",
     "evalue": "invalid syntax (<ipython-input-51-e55d8db039d8>, line 1)",
     "output_type": "error",
     "traceback": [
      "\u001b[1;36m  File \u001b[1;32m\"<ipython-input-51-e55d8db039d8>\"\u001b[1;36m, line \u001b[1;32m1\u001b[0m\n\u001b[1;33m    pip install mysql-connector-python-rf\u001b[0m\n\u001b[1;37m        ^\u001b[0m\n\u001b[1;31mSyntaxError\u001b[0m\u001b[1;31m:\u001b[0m invalid syntax\n"
     ]
    }
   ],
   "source": [
    "pip install mysql-connector-python-rf\n",
    "pip install pickle\n",
    "or\n",
    "pip install pickle5"
   ]
  },
  {
   "cell_type": "code",
   "execution_count": 55,
   "metadata": {},
   "outputs": [
    {
     "name": "stdout",
     "output_type": "stream",
     "text": [
      "3.8.3\n"
     ]
    }
   ],
   "source": [
    "from platform import python_version\n",
    "\n",
    "print(python_version())"
   ]
  },
  {
   "cell_type": "code",
   "execution_count": null,
   "metadata": {},
   "outputs": [],
   "source": []
  }
 ],
 "metadata": {
  "kernelspec": {
   "display_name": "Python 3",
   "language": "python",
   "name": "python3"
  },
  "language_info": {
   "codemirror_mode": {
    "name": "ipython",
    "version": 3
   },
   "file_extension": ".py",
   "mimetype": "text/x-python",
   "name": "python",
   "nbconvert_exporter": "python",
   "pygments_lexer": "ipython3",
   "version": "3.8.3"
  }
 },
 "nbformat": 4,
 "nbformat_minor": 4
}
